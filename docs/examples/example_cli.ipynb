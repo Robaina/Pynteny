{
 "cells": [
  {
   "attachments": {},
   "cell_type": "markdown",
   "metadata": {},
   "source": [
    "![logo](https://user-images.githubusercontent.com/21340147/192824830-dcbe8d09-2b10-431d-bd9a-b4624192dcc9.png)\n",
    "<br/>\n",
    "<br/>\n",
    "\n",
    "[Semidán Robaina](https://github.com/Robaina), September 2022.\n",
    "\n",
    "In this Notebook, we will use Pynteny through its command-line interface to find candidate peptide sequences beloging to the _sox_ operon within unannotated, fully sequenced, genomes of marine prokaryotic organisms. Note that we could have conducted the same search through [Pynteny's python API](example_api.ipynb). Find more info in the [documentation pages](https://robaina.github.io/Pynteny/). Let's start by importing some required modules."
   ]
  },
  {
   "cell_type": "code",
   "execution_count": 1,
   "metadata": {},
   "outputs": [],
   "source": [
    "from pathlib import Path\n",
    "from IPython.display import display, HTML\n",
    "import pandas as pd"
   ]
  },
  {
   "cell_type": "markdown",
   "metadata": {},
   "source": [
    "## Download PGAP profile HMM database\n",
    "\n",
    "First, let's download [PGAP](https://academic.oup.com/nar/article/49/D1/D1020/6018440)'s profile HMM database from the NCBI webpage. To this end, we will use pynteny subcommand `download`, which will unzip and store files in the specified output directory. The metadata file will be parsed and filtered to remove HMM entries that are not available in the downloaded database (this is to avoid possible downstream errors)."
   ]
  },
  {
   "cell_type": "code",
   "execution_count": 22,
   "metadata": {},
   "outputs": [],
   "source": [
    "%%bash\n",
    "\n",
    "pynteny download --outdir data/hmms --unpack"
   ]
  },
  {
   "cell_type": "markdown",
   "metadata": {},
   "source": [
    "## Build peptide sequence database\n",
    "\n",
    "For this example, we are going to use the [MAR reference](https://mmp2.sfb.uit.no/marref/) database (currently version _v7_), a collection of 970 fully sequenced prokaryotic genomes from the marine environment. Specifically, we will use the assembly data file containing the assembled nucleotide sequences.\n",
    "\n",
    "Our final goal is to build a peptide sequence database in a single FASTA file where each record corresponds to an inferred ORF, which will display the positional information (i.e. ORF number within the parent contig as well as the DNA strand). To this end, we will run pynteny's subcommand `build`, which will take care of:\n",
    "\n",
    "- Predict and translate ORFs with [prodigal]()\n",
    "- Label each ORF with a unique identifier and add positional metadata (with respect to the parent contig)\n",
    "\n",
    "To follow this example, you should have previously downloaded the assembly data file, `assembly.fa`, from [MAR ref](https://mmp2.sfb.uit.no/marref/). Here is what the first lines of `assembly.fa` look like, each record corresponds to a single, assembled genome:"
   ]
  },
  {
   "cell_type": "code",
   "execution_count": 2,
   "metadata": {},
   "outputs": [
    {
     "name": "stdout",
     "output_type": "stream",
     "text": [
      ">CP000435.1 Synechococcus sp. CC9311, complete genome\n",
      "ACATCGTTTCCCCTGTTTCCACAAGACCTACTACGGCTGTTTTCGTAGTTCTTTTAAGAGAATAAAAACAGCCCTAAAGC\n",
      "CGGGGAACACGAAAAAAACGTGAAACCATTGCGCTTCTCCCTTGCCTGTGAAATTGTGAGGAGAGATTTGTTCACGCCGT\n",
      "TGACTCGGACCTCATGAAATTGGTCTGTTCCCAGGCAGAACTCAACGCAGCTCTGCAGTTGGTCAGTCGGGCTGTCGCCT\n"
     ]
    }
   ],
   "source": [
    "%%bash \n",
    "\n",
    "head -n 4 data/MARref_v7/assembly.fa"
   ]
  },
  {
   "attachments": {},
   "cell_type": "markdown",
   "metadata": {},
   "source": [
    "Let's run `pynteny build` to generate a peptide database labeled with positional information. The labels are organized following the structure:\n",
    "\n",
    "`<genome ID>__<contig ID>_<gene position>_<locus start>_<locus end>_<strand>`\n",
    "\n",
    "\n",
    "where gene position, locus start, and locus end are taken with respect to the contig."
   ]
  },
  {
   "cell_type": "code",
   "execution_count": 18,
   "metadata": {},
   "outputs": [],
   "source": [
    "%%bash\n",
    "\n",
    "pynteny build \\\n",
    "    --data data/MARref_v7/assembly.fa \\\n",
    "    --outfile data/labeled_marref.fasta"
   ]
  },
  {
   "cell_type": "markdown",
   "metadata": {},
   "source": [
    "Here are some position-labeled predicted peptides corresponding to the assembled genome displayed above (`CP000435.1`):"
   ]
  },
  {
   "cell_type": "code",
   "execution_count": 5,
   "metadata": {},
   "outputs": [
    {
     "name": "stdout",
     "output_type": "stream",
     "text": [
      ">CP000435.1_1__CP000435.1_1_174_1331_pos\n",
      "MKLVCSQAELNAALQLVSRAVASRPTHPVLANVLLTADAGTDRLSLTGFDLNLGIQTSLAASVDTSGAVTLPARLLGEIVSKLSSDSPVSLSSDAGADQVELTSSSGSYQMRGMPADDFPELPLVENGTALRVDPASLLKALRATLFASSGDEAKQLLTGVHLRFNQKRLEAASTDGHRLAMLTVEDALQAEISAEESEPDELAVTLPARSLREVERLMASWKGGDPVSLFCERGQVVVLAADQMVTSRTLEGTYPNYRQLIPDGFSRTIDLDRRAFISALERIAVLADQHNNVVRIATEPATGLVQISADAQDVGSGSESLPAEINGDAVQIAFNARYVLDGLKAMDCDRVRLSCNAPTTPAILTPANDDPGLTYLVMPVQIRT*\n",
      ">CP000435.1_2__CP000435.1_2_1435_2148_pos\n",
      "MAWMHPPVHRLLGWVSRPSALRTSRDVWRLDQCRGFDDQQVFVKGAPAEADQITLDRLPTLLDADLLNADGERVGIIADLAFLPASGQISHYLVARSDPRLPGTSRWRLLPDRIVDQQPGLVSSAIHELDDLPLARASVRQDFLQRSRHWREQLQQFGDRAGERLEGWLEEPPWDEPPAVSDVASSYSSTAAPTVDPLDDWDDGDWTDAPRVERGRSVRNDPTDRNDWPDHEEDPWV*\n",
      ">CP000435.1_3__CP000435.1_3_2185_4518_pos\n",
      "MTQSSHAVAAFDLGAALRQEGLTETDYSEIQRRLGRDPNRAELGMFGVMWSEHCCYRNSRPLLSGFPTEGPRILVGPGENAGVVDLGEGHHLAFKVESHNHPSAVEPFQGAATGVGGILRDIFTMGARPIALLNALRFGPLDEPATRGLVEGVVAGIAHYGNCVGVPTVGGEVAFDPSYRGNPLVNAMALGLMETDEIVRSGAAGVGNPVVYVGSTTGRDGMGGASFASAELSADSLDDRPAVQVGDPFLEKGLIEACLEAFQSGDVVAAQDMGAAGLTCSCSEMAAKGDVGVELDLDRVPAREKGMTAYEFLLSESQERMLFVVRAGREEQLMQRFRRWGLQAAVVGRVLEEKVVRVLQHGAVAAEVPARALAEDTPINKHELLSEPPDDIQTHWTWRESDLPSPAIDRDWNADLLRLLDDPTIASKRWIYRQYDQQVLANTVIRAGGADAAVVRLRPQQGDASLQMSQRGVAATLDCPNRWVALDPERGAIAAVAEAARNLSCVGAQPIAVTDNLNFPSPETSKGYWQLAMACRGLSHACRSMGTPVTGGNVSLYNETRADDGSLQPIHPTPVVGMVGLVEDLDRSGGLAWRQPGDFVVLLGVSTDEEGNESVGLAGSSYQGAVHGLLTGRPPSVDLELEGQVQALVRQAFAQGVLASAHDSSDGGLAVALAESTLASGLGVDLNLPHRSARLDRVLFAEGGARIVVSVRAEQRSAWHSLVASQEHRSVPVTEIGTVADHGCFRLAVEKHPVIDLAVETLREQYEQAVPRRLGAV*\n"
     ]
    }
   ],
   "source": [
    "%%bash\n",
    "\n",
    "grep -A 1 \"CP000435.1\" data/labeled_marref.fasta | head -n 6"
   ]
  },
  {
   "cell_type": "markdown",
   "metadata": {},
   "source": [
    "## Search synteny structure in MAR ref\n",
    "\n",
    "Finally, we are going to use pynteny's `search` subcommand to search for a specific syntenic block within the previously built peptide database. Specifically, we are interested in the [_sox_ operon](https://link.springer.com/article/10.1007/s00253-016-8026-2#Fig1):\n",
    "\n",
    "```\n",
    ">soxX 0 >soxY 0 >soxZ 0 >soxA 0 >soxB 0 >soxC\n",
    "```\n",
    "\n",
    "We this synteny structure, we are searching for peptide sequences matching the profile HMM corresponding to these gene symbols, which are also arranged in this particular order, all in the positive (sense) strand, as indicated by `>`, and which are located exactly next to each other in the same contig (no ORFs allowed between them, as indicated by a maximum number of in-between ORFs of 0 in all cases.)"
   ]
  },
  {
   "cell_type": "code",
   "execution_count": 10,
   "metadata": {},
   "outputs": [
    {
     "name": "stdout",
     "output_type": "stream",
     "text": [
      "\n",
      "    ____              __                  \n",
      "   / __ \\__  ______  / /____  ____  __  __\n",
      "  / /_/ / / / / __ \\/ __/ _ \\/ __ \\/ / / /\n",
      " / ____/ /_/ / / / / /_/  __/ / / / /_/ / \n",
      "/_/    \\__, /_/ /_/\\__/\\___/_/ /_/\\__, /  \n",
      "      /____/                     /____/   \n",
      "\n",
      "Synteny-based Hmmer searches made easy, v0.0.2\n",
      "Semidán Robaina Estévez (srobaina@ull.edu.es), 2022\n",
      " \n",
      "\n",
      "2022-09-29 15:19:30,733 | INFO: Translated \n",
      " \">soxX 0 >soxY 0 >soxZ 0 >soxA 0 >soxB 0 >soxC\" \n",
      " to \n",
      " \">TIGR04485.1 0 >TIGR04488.1 0 >TIGR04490.1 0 >(TIGR01372.1|TIGR04484.1) 0 >(TIGR01373.1|TIGR04486.1) 0 >TIGR04555.1\" \n",
      " according to provided HMM database metadata\n"
     ]
    }
   ],
   "source": [
    "%%bash \n",
    "\n",
    "pynteny parse \\\n",
    "    --synteny_struc \">soxX 0 >soxY 0 >soxZ 0 >soxA 0 >soxB 0 >soxC\" \\\n",
    "    --hmm_meta data/hmms/hmm_meta.tsv"
   ]
  },
  {
   "cell_type": "markdown",
   "metadata": {},
   "source": [
    "We see that `pynteny parse` has found a number of profile HMMs matching the gene symbols in the provided synteny structure. Additionally, in two cases it has found two HMMs matching a single gene symbol, which are displayed within parentheses and separated by \"|\":\n",
    "\n",
    "`>TIGR04485.1 0 >TIGR04488.1 0 >TIGR04490.1 0 >(TIGR01372.1|TIGR04484.1) 0 >(TIGR01373.1|TIGR04486.1) 0 >TIGR04555.1`\n",
    "\n",
    "In these cases, `pynteny search` will match sequences by either or all of the HMMs in each group within parentheses.\n",
    "\n",
    "Alright, now that we know that our HMM database contains models for all the gene symbols in our synteny structure, let's run `pynteny search` to find matches in our peptide sequence database. \n",
    "\n",
    "Some notes:\n",
    "\n",
    "- Since we are using gene symbols instead of HMM names, we need to add the flag `--gene_ids`\n",
    "\n",
    "- We could have directly input the synteny string composed of HMM names. In that case, we wouldn't need to provide the path to the HMM metadata file (`--hmm_meta`) and we would remove the flag `--gene_ids`\n",
    "\n",
    "- Providing a path to the HMM database directory (`--hmm_dir`) is optional. If not provided, then pynteny will download and store the PGAP HMM database (only once if not previously downloaded) and use it to run the search. A custom HMM database provided in `--hmm_dir`will override pynteny's default database\n",
    "\n",
    "- We can also manually download the PGAP HMM database with the subcommand `pynteny download`"
   ]
  },
  {
   "cell_type": "code",
   "execution_count": 6,
   "metadata": {},
   "outputs": [
    {
     "name": "stdout",
     "output_type": "stream",
     "text": [
      "\n",
      "    ____              __                  \n",
      "   / __ \\__  ______  / /____  ____  __  __\n",
      "  / /_/ / / / / __ \\/ __/ _ \\/ __ \\/ / / /\n",
      " / ____/ /_/ / / / / /_/  __/ / / / /_/ / \n",
      "/_/    \\__, /_/ /_/\\__/\\___/_/ /_/\\__, /  \n",
      "      /____/                     /____/   \n",
      "\n",
      "Synteny-based Hmmer searches made easy, v0.0.2\n",
      "Semidán Robaina Estévez (srobaina@ull.edu.es), 2022\n",
      " \n",
      "\n",
      "2022-09-29 15:11:25,776 | INFO: Finding matching HMMs for gene symbols\n",
      "2022-09-29 15:11:25,947 | INFO: Found the following HMMs in database for given structure:\n",
      ">TIGR04485.1 0 >TIGR04488.1 0 >TIGR04490.1 0 >(TIGR01372.1|TIGR04484.1) 0 >(TIGR01373.1|TIGR04486.1) 0 >TIGR04555.1\n",
      "2022-09-29 15:11:26,134 | INFO: Searching database by synteny structure\n",
      "2022-09-29 15:11:26,135 | INFO: Running Hmmer\n",
      "2022-09-29 15:14:35,607 | INFO: Filtering results by synteny structure\n",
      "2022-09-29 15:15:58,818 | INFO: Writing matching sequences to FASTA files\n",
      "2022-09-29 15:16:03,511 | INFO: Finished!\n"
     ]
    }
   ],
   "source": [
    "%%bash\n",
    "\n",
    "pynteny search \\\n",
    "    --synteny_struc \">soxX 0 >soxY 0 >soxZ 0 >soxA 0 >soxB 0 >soxC\" \\\n",
    "    --data data/labeled_marref.fasta \\\n",
    "    --outdir example_cli/results/ \\\n",
    "    --hmm_dir data/hmms/hmm_PGAP \\\n",
    "    --hmm_meta data/hmms/hmm_meta.tsv \\\n",
    "    --gene_ids"
   ]
  },
  {
   "cell_type": "markdown",
   "metadata": {},
   "source": [
    "Pynteny has generated a number of output files in the provided output directory. HMMER3 hit results are stored within the subdirectory `hmmer_outputs`. The main output file, `synteny_matched.tsv` contains the labels of the matched sequences grouped by synteny block and sorted by gene number within their parent contig. The remaining (FASTA) files contain the retrieved peptide sequences for each gene symbol / HMM name in the synteny structure."
   ]
  },
  {
   "cell_type": "code",
   "execution_count": 8,
   "metadata": {},
   "outputs": [
    {
     "data": {
      "text/plain": [
       "['hmmer_outputs',\n",
       " 'soxA_TIGR04484.1_hits.fasta',\n",
       " 'soxB_TIGR04486.1_hits.fasta',\n",
       " 'soxC_TIGR04555.1_hits.fasta',\n",
       " 'soxX_TIGR04485.1_hits.fasta',\n",
       " 'soxY_TIGR04488.1_hits.fasta',\n",
       " 'soxZ_TIGR04490.1_hits.fasta',\n",
       " 'synteny_matched.tsv']"
      ]
     },
     "execution_count": 8,
     "metadata": {},
     "output_type": "execute_result"
    }
   ],
   "source": [
    "output_files = sorted([\n",
    "    file.name for file in Path(\"example_cli/\").iterdir()\n",
    "])\n",
    "\n",
    "output_files"
   ]
  },
  {
   "cell_type": "markdown",
   "metadata": {},
   "source": [
    "## Displaying the first synteny match\n",
    "\n",
    "So far, we have identified sequences (putatively) belonging to the sox operon in the MAR ref database. However, we don't know to which organisms these sequences belong. Luckily, the MAR ref database provides a metadata file that contains GTDB taxonomical information for each genome. Let's extract that info and add it to Pynteny's output table."
   ]
  },
  {
   "cell_type": "code",
   "execution_count": 67,
   "metadata": {},
   "outputs": [
    {
     "data": {
      "text/html": [
       "<table border=\"1\" class=\"dataframe\">\n",
       "  <thead>\n",
       "    <tr style=\"text-align: center;\">\n",
       "      <th></th>\n",
       "      <th>gene_id</th>\n",
       "      <th>gene_symbol</th>\n",
       "      <th>gene_number</th>\n",
       "      <th>locus</th>\n",
       "      <th>strand</th>\n",
       "      <th>hmm</th>\n",
       "      <th>taxonomy</th>\n",
       "    </tr>\n",
       "  </thead>\n",
       "  <tbody>\n",
       "    <tr>\n",
       "      <th>0</th>\n",
       "      <td>CP000031.2_985</td>\n",
       "      <td>soxX</td>\n",
       "      <td>985</td>\n",
       "      <td>(1045616, 1046089)</td>\n",
       "      <td>pos</td>\n",
       "      <td>TIGR04485.1</td>\n",
       "      <td>s__Ruegeria_B pomeroyi</td>\n",
       "    </tr>\n",
       "    <tr>\n",
       "      <th>1</th>\n",
       "      <td>CP000031.2_986</td>\n",
       "      <td>soxY</td>\n",
       "      <td>986</td>\n",
       "      <td>(1046132, 1046548)</td>\n",
       "      <td>pos</td>\n",
       "      <td>TIGR04488.1</td>\n",
       "      <td>s__Ruegeria_B pomeroyi</td>\n",
       "    </tr>\n",
       "    <tr>\n",
       "      <th>2</th>\n",
       "      <td>CP000031.2_987</td>\n",
       "      <td>soxZ</td>\n",
       "      <td>987</td>\n",
       "      <td>(1046582, 1046911)</td>\n",
       "      <td>pos</td>\n",
       "      <td>TIGR04490.1</td>\n",
       "      <td>s__Ruegeria_B pomeroyi</td>\n",
       "    </tr>\n",
       "    <tr>\n",
       "      <th>3</th>\n",
       "      <td>CP000031.2_988</td>\n",
       "      <td>soxA</td>\n",
       "      <td>988</td>\n",
       "      <td>(1046989, 1047840)</td>\n",
       "      <td>pos</td>\n",
       "      <td>TIGR04484.1</td>\n",
       "      <td>s__Ruegeria_B pomeroyi</td>\n",
       "    </tr>\n",
       "    <tr>\n",
       "      <th>4</th>\n",
       "      <td>CP000031.2_989</td>\n",
       "      <td>soxB</td>\n",
       "      <td>989</td>\n",
       "      <td>(1047975, 1049645)</td>\n",
       "      <td>pos</td>\n",
       "      <td>TIGR04486.1</td>\n",
       "      <td>s__Ruegeria_B pomeroyi</td>\n",
       "    </tr>\n",
       "    <tr>\n",
       "      <th>5</th>\n",
       "      <td>CP000031.2_990</td>\n",
       "      <td>soxC</td>\n",
       "      <td>990</td>\n",
       "      <td>(1049724, 1051007)</td>\n",
       "      <td>pos</td>\n",
       "      <td>TIGR04555.1</td>\n",
       "      <td>s__Ruegeria_B pomeroyi</td>\n",
       "    </tr>\n",
       "  </tbody>\n",
       "</table>"
      ],
      "text/plain": [
       "<IPython.core.display.HTML object>"
      ]
     },
     "metadata": {},
     "output_type": "display_data"
    }
   ],
   "source": [
    "# Assign species (GTDB) to each genome ID\n",
    "meta = pd.read_csv(\"data/MARref_v7/MarRef_1.7.tsv\", sep=\"\\t\")\n",
    "\n",
    "def assign_tax(genome_id: str) -> str:\n",
    "    try:\n",
    "        return meta.loc[\n",
    "            meta['acc:genbank'].str.contains(f'ena.embl:{genome_id.split(\".\")[0]}'), 'tax:gtdb_classification'\n",
    "            ].item().split(\">\")[-1]\n",
    "    except:\n",
    "        return \"\"\n",
    "    \n",
    "df = pd.read_csv(\"example_cli/results/synteny_matched.tsv\", sep=\"\\t\")\n",
    "df[\"taxonomy\"] = df.contig.apply(assign_tax)\n",
    "\n",
    "# Display main results\n",
    "till_row = 5\n",
    "display_cols = [\"gene_id\", \"contig\", \"gene_symbol\", \"gene_number\", \"locus\", \"strand\", \"hmm\", \"taxonomy\"]\n",
    "display(HTML(df.loc[:till_row, display_cols].to_html()))"
   ]
  },
  {
   "cell_type": "markdown",
   "metadata": {},
   "source": [
    "Displayed above the first synteny match in our peptide database, we see that all peptides are located within the same parent contig and respect the positional restrictions of our input synteny structure. Furthermore, all sequences belong to _Ruegeria pomeroyii_, and alphaproteobacteria of the family _Rhodobacteraceae_.\n",
    "\n",
    "Additional notes:\n",
    "\n",
    "- The previous results are strand-specific (all ORFs must be located in the positive or _sense_ strand). However, we could have made them strand-agnostic by omitting the strand symbols in the synteny structure (i.e., using `soxX 0 soxY 0 soxZ 0 soxA 0 soxB 0 soxC`)\n",
    "\n",
    "- We could have made the search even more general dropping the constraint on the arrangement by adding the flag `pynteny search --unordered`. In which case, Pynteny would match any group of 6 ORFs corresponding to the provided HMM names, located in the same contig and adjacent to each other, but not necessarily arranged in the same order displayed by the synteny structure. In other words, `--unordered` enables searching for \"true\" synteny, as opposed to the, more restrictive, collinearity.\n",
    "\n",
    "Alright, finally, let's get the peptide sequences in our original input database that correspond to the identified synteny block displayed above:"
   ]
  },
  {
   "cell_type": "code",
   "execution_count": 68,
   "metadata": {},
   "outputs": [],
   "source": [
    "# Get original peptide sequences\n",
    "hit_labels = df.loc[:till_row, \"full_label\"].values\n",
    "grep_labels = \"|\".join(hit_labels)"
   ]
  },
  {
   "cell_type": "code",
   "execution_count": 69,
   "metadata": {},
   "outputs": [
    {
     "name": "stdout",
     "output_type": "stream",
     "text": [
      ">CP000031.2_985__CP000031.2_985_1045616_1046089_pos\n",
      "MKTTILTLAAALISGAAWAGETAPGDVVYADGAVEASLTGTPGDAANGAMVVGSKKHGNCVACHQVGALADVPFQGEIGPALDGAGSRWSEAELRGLVANAKLTFEGSMMPSFYRIDGYIRPGDAYTGKAAKGALTPLLSAQEIEDVVAFLATLKDE*\n",
      ">CP000031.2_986__CP000031.2_986_1046132_1046548_pos\n",
      "MDFSRRDTLGLALGAAALTVLPFRVNAAAEDRIAEFTGGAEMGEGGLTLTAPEIAENGNTVPIEVSAPGAAAIMVLAMGNPTPGVAQFNFGPLAAAQAASTRIRLAGTQDVVAIAKMADGSFVKASSTVKVTIGGCGG*\n",
      ">CP000031.2_987__CP000031.2_987_1046582_1046911_pos\n",
      "MASGVKPRVKVPKSVAAGEAITIKTLISHAMESGQRKDKEGNVIPRSIINRFTCEFNGQSVIDITMEPAISTNPYFQFDATVPEAGEFVFTWYDDDGSVYNDNKSITIA*\n",
      ">CP000031.2_988__CP000031.2_988_1046989_1047840_pos\n",
      "MKVRAMTAIAALLAAPLAAVAGPDSDELVVNGEINMVTQTEAPAHLDGALSELYSGWRFRSDETQALQMDDFDNPAMVFVDQAQEAWDTADGTEGKSCASCHGDAADSMAGVRAVYPKWNEAAGEVRTLEAQVNDCRENRMGAKAWKYDGGDMASMTALISVQSRGLPVNVAIDGPAQATWEMGKEIYYTRYGQLELSCANCHEDNYGNMIRADHLSQGHINGFPTYRLKNAKLNTSHARFKGCVRDTRAETFNPGSPEFVALELYVASRGNGLSVEGPSVRN*\n",
      ">CP000031.2_989__CP000031.2_989_1047975_1049645_pos\n",
      "MAASALVGASGFGNWSRLAAQQALTQDQLLEFDTFGNLTLIHITDIHAQLMPIYFREPEVNLGIGAAKGQMPHITGADFRRFYGIEDGSPSAYALTYDDFSSLARTYGRVGGMDRVANVVNAIRADRPDALLLDGGDTWHGSYTCHHTEGQDVVNVMNALKPDAMTFHWEFTLGTDRVTELVESLPFASLGQNIFDAEWDEPAELFKPYKFFERGGVKVAVIGQAFPYMPIANPGWMFPEFSFGIREENMQAMVDEVRAEGAEVVVVLSHNGFDVDKKMAGRVTGIDVILSGHTHDALPEPVLVEQTYVIASGSNGKFVSRVDLDIRDGRMMGLKHKLIPIFSDVIAPDPQVTALINAQREPHIDQLREVIGRTADDALLYRRGNFNGTWDDLICDALISERDADIAMSPGVRWGPSILPGQEITREDIWNVTSMSYGAAYRTEMTGEFLHVVLEDVGDNLFNPDPYYQQGGDMVRVGGLGYRIDVTKPQGSRISDMTLLKTGEQIDPAKNYVVAGWASVNEGTEGPQIWDVVENHIRKLGTVNVTPNTSVEVVGA*\n",
      ">CP000031.2_990__CP000031.2_990_1049724_1051007_pos\n",
      "MSESSGKHSPSRRRFLTSVAAAGAGAVAAGAARAAGPDPLITEVQDWARATGDGVDATPYGLPIEYEGDVIRRNVEWLTADTISSINFTPIHALDGTITPQGCAFERHHSGAIALKKEDYRLMINGLVDTPLVFSYADLERFPRENHVYFCECAANSGMEWAGAQLNGAQFTHGMIHNMEYSGVSLRTLLEEAGLSAAGDLKDKWVYVEGADASSNGRSIPMEKALDDVLVAFKANGEALRKEHGYPVRLVVPGWEGNMWVKWLRRIEVMDGPVESREETSKYTDTLEDGTSRKWTWVMDAKSVVTSPSPQAPITHGAGPLVITGLAWSGRGAITGVDVSIDGGKSWQPARLAAPGQDKALTRFYLDTNWDGSEMLLQSRARDSSGYVQPTKAQLREVRGLNSIYHNNAIQTWWVKANGVAENVEVS*\n"
     ]
    }
   ],
   "source": [
    "%%bash -s \"$grep_labels\"\n",
    "\n",
    "grep -A 1 -E $1 data/labeled_marref.fasta"
   ]
  },
  {
   "cell_type": "markdown",
   "metadata": {},
   "source": [
    "There you go! All six peptide sequences corresponding to the synteny block `>soxX 0 >soxY 0 >soxZ 0 >soxA 0 >soxB 0 >soxC`. We have come from unannotated nucleotide assembly data to identify and locate (part of) the _sox_ operon of _Ruegeria pomeroyi_. Not bad...\n",
    "\n",
    "Here is the KEGG genome visualization centered around the _sox_ operon. Click on the image to open it in the browser, then change gene identifiers from `KID` to `Symbol` to display gene symbols. The _sox_ operon is depicted in purple.\n",
    "\n",
    "[![kegg_sox](https://user-images.githubusercontent.com/21340147/193272708-87a3ab17-067c-40da-ae9a-47c74384ee4d.png)](https://www.genome.jp/genome/sil+SPO0993?org=T00215&from=1027057&to=1064637&label=gene)"
   ]
  }
 ],
 "metadata": {
  "kernelspec": {
   "display_name": "Python 3 (ipykernel)",
   "language": "python",
   "name": "python3"
  },
  "language_info": {
   "codemirror_mode": {
    "name": "ipython",
    "version": 3
   },
   "file_extension": ".py",
   "mimetype": "text/x-python",
   "name": "python",
   "nbconvert_exporter": "python",
   "pygments_lexer": "ipython3",
   "version": "3.10.8 | packaged by conda-forge | (main, Nov 22 2022, 08:23:14) [GCC 10.4.0]"
  },
  "vscode": {
   "interpreter": {
    "hash": "72a61de4707cf6170489d2ddea2edd86c71e80569b354848770f4168884b6914"
   }
  }
 },
 "nbformat": 4,
 "nbformat_minor": 4
}

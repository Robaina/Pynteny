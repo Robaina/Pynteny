{
 "cells": [
  {
   "attachments": {},
   "cell_type": "markdown",
   "metadata": {},
   "source": [
    "<!-- <a href=\"https://colab.research.google.com/github/Robaina/Pynteny/blob/main/docs/examples/example_api_colab.ipynb\" target=\"_parent\"><img src=\"https://colab.research.google.com/assets/colab-badge.svg\" alt=\"Open In Colab\"/></a> -->"
   ]
  },
  {
   "attachments": {},
   "cell_type": "markdown",
   "metadata": {},
   "source": [
    "![logo](https://user-images.githubusercontent.com/21340147/192824830-dcbe8d09-2b10-431d-bd9a-b4624192dcc9.png)\n",
    "<br/>\n",
    "<br/>\n",
    "\n",
    "[Semidán Robaina](https://github.com/Robaina), September 2022.\n",
    "\n",
    "In this Notebook, we will use Pynteny through its Python API to find candidate peptide sequences beloging to the _leu_ operon of _Escherichia coli_. \n",
    "\n",
    "- Note that we could have conducted the same search through Pynteny's command-line interface. Check out a more complete example based on Pynteny's command-line interface [here](example_cli.ipynb). \n",
    "\n",
    "- Find more info in the [documentation pages](https://robaina.github.io/Pynteny/)!\n",
    "\n",
    "Let's start by importing some required modules."
   ]
  },
  {
   "cell_type": "code",
   "execution_count": 1,
   "metadata": {},
   "outputs": [],
   "source": [
    "from pathlib import Path\n",
    "from pandas import DataFrame\n",
    "from pynteny.filter import SyntenyHits\n",
    "from pynteny import Search, Build, Download"
   ]
  },
  {
   "attachments": {},
   "cell_type": "markdown",
   "metadata": {},
   "source": [
    "Let's now create a directory to store results"
   ]
  },
  {
   "cell_type": "code",
   "execution_count": 2,
   "metadata": {},
   "outputs": [],
   "source": [
    "Path(\"example_api/data\").mkdir(exist_ok=False, parents=True)"
   ]
  },
  {
   "cell_type": "markdown",
   "metadata": {},
   "source": [
    "## Download PGAP profile HMM database\n",
    "\n",
    "Pynteny downloads the [PGAP](https://academic.oup.com/nar/article/49/D1/D1020/6018440)'s profile HMM database by default from the NCBI webpage when no path to a HMM database is provided. However, we can also manually download PGAP's database within Python through the class `Download`, which will unzip and store files in the specified output directory. The metadata file will be parsed and filtered to remove HMM entries that are not available in the downloaded database (this is to avoid possible downstream errors). Here is how you would run it:"
   ]
  },
  {
   "cell_type": "code",
   "execution_count": 3,
   "metadata": {},
   "outputs": [],
   "source": [
    "# Optional if PGAP's database has already been downloaded by Pynteny\n",
    "Download(\n",
    "    outdir=\"example_api/data/hmms\",\n",
    "    unpack=True\n",
    ").run()"
   ]
  },
  {
   "attachments": {},
   "cell_type": "markdown",
   "metadata": {},
   "source": [
    "## Build peptide sequence database\n",
    "\n",
    "For this example, we are going to use the complete genome of _E. coli_'s K-12 MG1655 in genbank format. Our final goal is to build a peptide sequence database in a single FASTA file where each record corresponds to an inferred ORF, which will display the positional information (i.e. ORF number within the parent contig as well as the DNA strand). To this end, we will run pynteny's subcommand `build` within Python through the class `Build`. \n",
    "\n",
    "Since we are providing a genome which is already annotated (genbank file), we don't need to predict and translate ORFs as in the [command-line example](example_cli.ipynb). Instead, Pynteny will directly label each ORF with a unique identifier and add positional metadata (with respect to the parent contig). The labels will be organized following the structure:\n",
    "\n",
    "\n",
    "```\n",
    "<genome ID>__<contig ID>_<gene position>_<locus start>_<locus end>_<strand>\n",
    "```\n",
    "\n",
    "\n",
    "where gene position, locus start, and locus end are taken with respect to the contig.\n",
    "\n",
    "__NOTE__: You'll need _E. coli's_ genome to follow this example. It's already downloaded in the repo (`tests/test_data/MG1655.gb`), but you can also download it [here](https://www.ncbi.nlm.nih.gov/nuccore/U00096.2)."
   ]
  },
  {
   "cell_type": "code",
   "execution_count": 4,
   "metadata": {},
   "outputs": [
    {
     "name": "stdout",
     "output_type": "stream",
     "text": [
      "2023-01-31 10:14:01,795 | INFO: Building annotated peptide database\n",
      "2023-01-31 10:14:02,289 | INFO: Parsing GenBank data.\n",
      "2023-01-31 10:14:02,705 | INFO: Database built successfully!\n"
     ]
    }
   ],
   "source": [
    "Build(\n",
    "    data=\"../../tests/test_data/MG1655.gb\",\n",
    "    outfile=\"example_api/data/labelled_MG1655.fasta\",\n",
    "    logfile=None\n",
    ").run()"
   ]
  },
  {
   "attachments": {},
   "cell_type": "markdown",
   "metadata": {},
   "source": [
    "## Search synteny structure in _E. coli_\n",
    "\n",
    "Finally, we are going to use pynteny class `Search` to search for a specific syntenic block within the previously built peptide database. Specifically, we are interested in the following structure:\n",
    "\n",
    "```\n",
    "<leuD 0 <leuC 1 <leuA\n",
    "```\n",
    "\n",
    "With this synteny structure, we are searching for peptide sequences matching the profile HMM corresponding to these gene symbols, which are also arranged in this particular order, all in the negative (antisense) strand, as indicated by `<`, and which are located exactly next to each other in the same contig in the case of `leuD` and `leuC`, and with at most one ORF in between in the case of `leuC` and `leuA` (as indicated by a maximum number of in-between ORFs of 0 and 1, respectively.)\n",
    "\n",
    "First, we need to initialize the class `Search` with the appropiate parameters to conduct our synteny-aware search. Find more info about the parameters in the [wiki pages](https://github.com/Robaina/Pynteny/wiki/search).\n",
    "\n",
    "Some notes:\n",
    "\n",
    "- The only required parameters are `data`, the path to the position-labeled peptide database and `synteny_struc`, a string containing the definition of the synteny block to search for\n",
    "\n",
    "- Providing a path to the HMM database directory (parameter `hmm_dir`) is optional. If not provided, then pynteny will download and store the PGAP HMM database (only once if not previously downloaded) and use it to run the search. A custom HMM database provided in `hmm_dir` will override pynteny's default database\n",
    "\n",
    "- We can also manually download the PGAP HMM database with the subcommand `pynteny download`, or within Python through the class `Download` as shown above."
   ]
  },
  {
   "cell_type": "code",
   "execution_count": 3,
   "metadata": {},
   "outputs": [],
   "source": [
    "# Initialize class\n",
    "search = Search(\n",
    "    data=\"example_api/data/labelled_MG1655.fasta\",\n",
    "    synteny_struc=\"<leuD 0 <leuC 1 <leuA\",\n",
    "    hmm_dir=None,\n",
    "    hmm_meta=None,\n",
    "    outdir=\"example_api/\",\n",
    "    prefix=\"\",\n",
    "    hmmsearch_args=None,\n",
    "    gene_ids=False,\n",
    "    logfile=\"example_api/pynteny.log\",\n",
    "    processes=None,\n",
    "    unordered=False,\n",
    "    )"
   ]
  },
  {
   "cell_type": "code",
   "execution_count": 4,
   "metadata": {},
   "outputs": [
    {
     "name": "stdout",
     "output_type": "stream",
     "text": [
      "2022-10-04 12:02:26,644 | INFO: Translated \n",
      " \"<leuD 0 <leuC 1 <leuA\" \n",
      " to \n",
      " \"<TIGR00171.1 0 <TIGR00170.1 1 <TIGR00973.1\" \n",
      " according to provided HMM database metadata\n"
     ]
    }
   ],
   "source": [
    "# Parse gene IDs in synteny structure according to PGAP HMM database metadata\n",
    "parsed_struc = search.parse_genes(synteny_struc=\"<leuD 0 <leuC 1 <leuA\")"
   ]
  },
  {
   "attachments": {},
   "cell_type": "markdown",
   "metadata": {},
   "source": [
    "We see that `pynteny parse` has found three profile HMMs matching the corresponding gene symbols in the provided synteny structure:\n",
    "\n",
    "`<TIGR00171.1 0 <TIGR00170.1 1 <TIGR00973.1`\n",
    "\n",
    "Alright, now that we know that our HMM database contains models for all the gene symbols in our synteny structure, let's execute `Search.run` to find matches in our peptide sequence database. \n",
    "\n",
    "Some notes:\n",
    "\n",
    "- We could have directly input the synteny string composed of gene symbols. In that case we would have to set `gene_ids=True` with the method `Search.update`."
   ]
  },
  {
   "cell_type": "code",
   "execution_count": 5,
   "metadata": {},
   "outputs": [
    {
     "name": "stdout",
     "output_type": "stream",
     "text": [
      "2022-10-04 12:02:29,054 | INFO: Searching database by synteny structure\n",
      "2022-10-04 12:02:29,054 | INFO: Running Hmmer\n",
      "2022-10-04 12:02:29,055 | INFO: Reusing Hmmer results for HMM: TIGR00973.1\n",
      "2022-10-04 12:02:29,058 | INFO: Reusing Hmmer results for HMM: TIGR00171.1\n",
      "2022-10-04 12:02:29,060 | INFO: Reusing Hmmer results for HMM: TIGR00170.1\n",
      "2022-10-04 12:02:29,062 | INFO: Filtering results by synteny structure\n",
      "2022-10-04 12:02:29,091 | INFO: Writing matching sequences to FASTA files\n",
      "2022-10-04 12:02:29,146 | INFO: Finished!\n"
     ]
    }
   ],
   "source": [
    "# Update parsed synteny structure and Rrun Pynteny search\n",
    "search.update(\"synteny_struc\", parsed_struc)\n",
    "synhits: SyntenyHits = search.run()\n",
    "\n",
    "synhits_df: DataFrame = synhits.hits"
   ]
  },
  {
   "cell_type": "markdown",
   "metadata": {},
   "source": [
    "## Displaying the first synteny match\n",
    "\n",
    "Pynteny has generated a number of output files in the provided output directory. HMMER3 hit results are stored within the subdirectory `hmmer_outputs`. The main output file, `synteny_matched.tsv` contains the labels of the matched sequences grouped by synteny block and sorted by gene number within their parent contig. The remaining (FASTA) files contain the retrieved peptide sequences for each gene symbol / HMM name in the synteny structure.\n",
    "\n",
    "Displayed below is the first synteny match in our peptide database, we see that all peptides are located within the same parent contig and respect the positional restrictions of our input synteny structure: `<leuD 0 <leuC 1 <leuA`."
   ]
  },
  {
   "cell_type": "code",
   "execution_count": 6,
   "metadata": {},
   "outputs": [
    {
     "data": {
      "text/html": [
       "<div>\n",
       "<style scoped>\n",
       "    .dataframe tbody tr th:only-of-type {\n",
       "        vertical-align: middle;\n",
       "    }\n",
       "\n",
       "    .dataframe tbody tr th {\n",
       "        vertical-align: top;\n",
       "    }\n",
       "\n",
       "    .dataframe thead th {\n",
       "        text-align: right;\n",
       "    }\n",
       "</style>\n",
       "<table border=\"1\" class=\"dataframe\">\n",
       "  <thead>\n",
       "    <tr style=\"text-align: right;\">\n",
       "      <th></th>\n",
       "      <th>contig</th>\n",
       "      <th>gene_id</th>\n",
       "      <th>gene_number</th>\n",
       "      <th>locus</th>\n",
       "      <th>strand</th>\n",
       "      <th>full_label</th>\n",
       "      <th>hmm</th>\n",
       "      <th>gene_symbol</th>\n",
       "      <th>label</th>\n",
       "      <th>product</th>\n",
       "      <th>ec_number</th>\n",
       "    </tr>\n",
       "  </thead>\n",
       "  <tbody>\n",
       "    <tr>\n",
       "      <th>0</th>\n",
       "      <td>U00096</td>\n",
       "      <td>b0071</td>\n",
       "      <td>71</td>\n",
       "      <td>(78847, 79453)</td>\n",
       "      <td>neg</td>\n",
       "      <td>b0071__U00096_71_78847_79453_neg</td>\n",
       "      <td>TIGR00171.1</td>\n",
       "      <td>leuD</td>\n",
       "      <td>leuD</td>\n",
       "      <td>3-isopropylmalate dehydratase small subunit</td>\n",
       "      <td>4.2.1.33</td>\n",
       "    </tr>\n",
       "    <tr>\n",
       "      <th>1</th>\n",
       "      <td>U00096</td>\n",
       "      <td>b0072</td>\n",
       "      <td>72</td>\n",
       "      <td>(79463, 80864)</td>\n",
       "      <td>neg</td>\n",
       "      <td>b0072__U00096_72_79463_80864_neg</td>\n",
       "      <td>TIGR00170.1</td>\n",
       "      <td>leuC</td>\n",
       "      <td>leuC</td>\n",
       "      <td>3-isopropylmalate dehydratase large subunit</td>\n",
       "      <td>4.2.1.33</td>\n",
       "    </tr>\n",
       "    <tr>\n",
       "      <th>2</th>\n",
       "      <td>U00096</td>\n",
       "      <td>b0074</td>\n",
       "      <td>74</td>\n",
       "      <td>(81957, 83529)</td>\n",
       "      <td>neg</td>\n",
       "      <td>b0074__U00096_74_81957_83529_neg</td>\n",
       "      <td>TIGR00973.1</td>\n",
       "      <td>leuA</td>\n",
       "      <td>leuA_bact</td>\n",
       "      <td>2-isopropylmalate synthase</td>\n",
       "      <td>2.3.3.13</td>\n",
       "    </tr>\n",
       "  </tbody>\n",
       "</table>\n",
       "</div>"
      ],
      "text/plain": [
       "   contig gene_id  gene_number           locus strand  \\\n",
       "0  U00096   b0071           71  (78847, 79453)    neg   \n",
       "1  U00096   b0072           72  (79463, 80864)    neg   \n",
       "2  U00096   b0074           74  (81957, 83529)    neg   \n",
       "\n",
       "                         full_label          hmm gene_symbol      label  \\\n",
       "0  b0071__U00096_71_78847_79453_neg  TIGR00171.1        leuD       leuD   \n",
       "1  b0072__U00096_72_79463_80864_neg  TIGR00170.1        leuC       leuC   \n",
       "2  b0074__U00096_74_81957_83529_neg  TIGR00973.1        leuA  leuA_bact   \n",
       "\n",
       "                                       product ec_number  \n",
       "0  3-isopropylmalate dehydratase small subunit  4.2.1.33  \n",
       "1  3-isopropylmalate dehydratase large subunit  4.2.1.33  \n",
       "2                   2-isopropylmalate synthase  2.3.3.13  "
      ]
     },
     "execution_count": 6,
     "metadata": {},
     "output_type": "execute_result"
    }
   ],
   "source": [
    "synhits_df.head()"
   ]
  },
  {
   "cell_type": "markdown",
   "metadata": {},
   "source": [
    "Finally, here is the KEGG genome visualization centered around the _leu_ operon. Click on the image to open it in the browser, then change gene identifiers from `KID` to `Symbol` to display gene symbols. The _sox_ operon is depicted in purple.\n",
    "\n",
    "[![keeg_leu](https://user-images.githubusercontent.com/21340147/193794791-fc7643a7-4fbc-41a1-9770-2979bfc3434a.png)](https://www.genome.jp/genome/T00007?org=T00007&from=64000&to=101580&label=kid)"
   ]
  },
  {
   "cell_type": "markdown",
   "metadata": {},
   "source": [
    "## Get citation\n",
    "\n",
    "We can get the citation string by calling the `cite` method:"
   ]
  },
  {
   "cell_type": "code",
   "execution_count": 11,
   "metadata": {},
   "outputs": [
    {
     "name": "stdout",
     "output_type": "stream",
     "text": [
      "Semidán Robaina Estévez (2022). Pynteny: synteny-aware hmm searches made easy(Version 0.0.2). Zenodo. https://doi.org/10.5281/zenodo.7048685\n"
     ]
    }
   ],
   "source": [
    "Search.cite()"
   ]
  }
 ],
 "metadata": {
  "kernelspec": {
   "display_name": "Python 3.10.5 ('pynteny')",
   "language": "python",
   "name": "python3"
  },
  "language_info": {
   "codemirror_mode": {
    "name": "ipython",
    "version": 3
   },
   "file_extension": ".py",
   "mimetype": "text/x-python",
   "name": "python",
   "nbconvert_exporter": "python",
   "pygments_lexer": "ipython3",
   "version": "3.10.8"
  },
  "orig_nbformat": 4,
  "vscode": {
   "interpreter": {
    "hash": "72a61de4707cf6170489d2ddea2edd86c71e80569b354848770f4168884b6914"
   }
  }
 },
 "nbformat": 4,
 "nbformat_minor": 2
}

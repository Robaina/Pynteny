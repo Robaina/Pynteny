{
  "cells": [
    {
      "cell_type": "markdown",
      "metadata": {
        "colab_type": "text",
        "id": "view-in-github"
      },
      "source": [
        "<a href=\"https://colab.research.google.com/github/Robaina/Pynteny/blob/main/docs/examples/example_api_colab.ipynb\" target=\"_parent\"><img src=\"https://colab.research.google.com/assets/colab-badge.svg\" alt=\"Open In Colab\"/></a>"
      ]
    },
    {
      "cell_type": "markdown",
      "metadata": {
        "id": "YdbG4oq_4hem"
      },
      "source": [
        "![logo](https://user-images.githubusercontent.com/21340147/192824830-dcbe8d09-2b10-431d-bd9a-b4624192dcc9.png)\n",
        "<br/>\n",
        "<br/>\n",
        "\n",
        "[Semidán Robaina](https://github.com/Robaina), September 2022.\n",
        "\n",
        "In this Notebook, we will use Pynteny through its Python API to find candidate peptide sequences beloging to the _leu_ operon of _Escherichia coli_. \n",
        "\n",
        "- Note that we could have conducted the same search through Pynteny's command-line interface as well as through Pynteny's web application. Check out a more complete example based on Pynteny's command-line interface [here](example_cli.ipynb). \n",
        "\n",
        "- Find more info in the [documentation](https://robaina.github.io/Pynteny/).\n",
        "\n",
        "Let's start by importing some required modules."
      ]
    },
    {
      "cell_type": "code",
      "execution_count": 1,
      "metadata": {
        "cellView": "form",
        "id": "p0TN8wXZ6a-D"
      },
      "outputs": [],
      "source": [
        "%%capture\n",
        "#@title Install Pynteny (can take a few minutes)\n",
        "try:\n",
        "  import google.colab\n",
        "  import sys\n",
        "  # Install miniconda\n",
        "  !wget -qnc https://repo.anaconda.com/miniconda/Miniconda3-py38_22.11.1-1-Linux-x86_64.sh\n",
        "  !chmod +x Miniconda3-py38_22.11.1-1-Linux-x86_64.sh\n",
        "  !bash ./Miniconda3-py38_22.11.1-1-Linux-x86_64.sh -b -f -p /usr/local/\n",
        "  !rm ./Miniconda3-py38_22.11.1-1-Linux-x86_64.sh\n",
        "  # Install Pynteny and dependencies\n",
        "  !conda install -q -y -c conda-forge -c semidan.robaina -c bioconda \\\n",
        "      python=3.8 \\\n",
        "      poetry=1.3 \\\n",
        "      pip \\\n",
        "      hmmer=3.3 \\\n",
        "      prodigal=2.6 \\\n",
        "      pyfastx=0.8 \\\n",
        "      biopython=1.80 \\\n",
        "      numpy \\\n",
        "      pandas \\\n",
        "      psutil=5.9 \\\n",
        "      python-wget \\\n",
        "      streamlit=1.16 \\\n",
        "      streamlit-aggrid\n",
        "  !git clone https://github.com/Robaina/Pynteny.git\n",
        "  !cd Pynteny && poetry build && pip install -q dist/pynteny*.whl\n",
        "  !cp -r Pynteny/tests/ . && rm -r Pynteny\n",
        "  sys.path.insert(0, f\"/usr/local/lib/python3.8/site-packages/\")\n",
        "except ImportError:\n",
        "  pass"
      ]
    },
    {
      "cell_type": "code",
      "execution_count": 16,
      "metadata": {
        "cellView": "form",
        "colab": {
          "base_uri": "https://localhost:8080/"
        },
        "id": "FYFV41pKd3DB",
        "outputId": "be13ed37-42dd-46dc-bc4c-eff4c66a8a31"
      },
      "outputs": [
        {
          "name": "stdout",
          "output_type": "stream",
          "text": [
            "Mounted at /content/drive\n"
          ]
        }
      ],
      "source": [
        "#@title Mount google drive\n",
        "from google.colab import drive\n",
        "drive.mount('/content/drive')\n",
        "from sys import version_info \n",
        "python_version = f\"{version_info.major}.{version_info.minor}\""
      ]
    },
    {
      "cell_type": "code",
      "execution_count": null,
      "metadata": {
        "id": "T80GJ5OQfngE"
      },
      "outputs": [],
      "source": [
        "from pathlib import Path\n",
        "from pandas import DataFrame\n",
        "from pynteny.filter import SyntenyHits\n",
        "from pynteny import Search, Build, Download"
      ]
    },
    {
      "cell_type": "code",
      "execution_count": 1,
      "metadata": {
        "cellView": "form",
        "colab": {
          "base_uri": "https://localhost:8080/",
          "height": 190
        },
        "id": "J8M-T71YeNiI",
        "outputId": "126793da-93ac-40bf-b138-5271caec0b2b"
      },
      "outputs": [
        {
          "ename": "NameError",
          "evalue": "ignored",
          "output_type": "error",
          "traceback": [
            "\u001b[0;31m---------------------------------------------------------------------------\u001b[0m",
            "\u001b[0;31mNameError\u001b[0m                                 Traceback (most recent call last)",
            "\u001b[0;32m<ipython-input-1-a07f036379a1>\u001b[0m in \u001b[0;36m<module>\u001b[0;34m\u001b[0m\n\u001b[1;32m      1\u001b[0m \u001b[0moutput_dir\u001b[0m \u001b[0;34m=\u001b[0m \u001b[0;34m'/content/drive/MyDrive/Pynteny'\u001b[0m \u001b[0;31m#@param {type:\"string\"}\u001b[0m\u001b[0;34m\u001b[0m\u001b[0;34m\u001b[0m\u001b[0m\n\u001b[0;32m----> 2\u001b[0;31m \u001b[0mPath\u001b[0m\u001b[0;34m(\u001b[0m\u001b[0moutput_dir\u001b[0m\u001b[0;34m)\u001b[0m\u001b[0;34m.\u001b[0m\u001b[0mmkdir\u001b[0m\u001b[0;34m(\u001b[0m\u001b[0mexist_ok\u001b[0m\u001b[0;34m=\u001b[0m\u001b[0;32mTrue\u001b[0m\u001b[0;34m)\u001b[0m\u001b[0;34m\u001b[0m\u001b[0;34m\u001b[0m\u001b[0m\n\u001b[0m",
            "\u001b[0;31mNameError\u001b[0m: name 'Path' is not defined"
          ]
        }
      ],
      "source": [
        "#@title Select output directory\n",
        "output_dir = '/content/drive/MyDrive/Pynteny' #@param {type:\"string\"}\n",
        "Path(output_dir).mkdir(exist_ok=False)"
      ]
    },
    {
      "cell_type": "markdown",
      "metadata": {
        "id": "SKAdT9TE4heq"
      },
      "source": [
        "## Download PGAP profile HMM database\n",
        "\n",
        "Pynteny downloads the [PGAP](https://academic.oup.com/nar/article/49/D1/D1020/6018440)'s profile HMM database by default from the NCBI webpage when no path to a HMM database is provided. However, we can also manually download PGAP's database within Python through the class `Download`, which will unzip and store files in the specified output directory. The metadata file will be parsed and filtered to remove HMM entries that are not available in the downloaded database (this is to avoid possible downstream errors). Here is how you would run it:"
      ]
    },
    {
      "cell_type": "code",
      "execution_count": 3,
      "metadata": {
        "colab": {
          "base_uri": "https://localhost:8080/"
        },
        "id": "1eMhtUKO4heq",
        "outputId": "2b71f8bf-1a4e-44e1-fcac-4bfc26bd9776"
      },
      "outputs": [
        {
          "name": "stdout",
          "output_type": "stream",
          "text": [
            "skipping\n"
          ]
        }
      ],
      "source": [
        "%%script echo skipping\n",
        "# Optional if PGAP's database has already been downloaded by Pynteny\n",
        "Download(\n",
        "    outdir=f\"{output_dir}/data/hmms\",\n",
        "    unpack=True\n",
        ").run()"
      ]
    },
    {
      "cell_type": "markdown",
      "metadata": {
        "id": "wjDfHkZb4heq"
      },
      "source": [
        "## Build peptide sequence database\n",
        "\n",
        "For this example, we are going to use the complete genome of _E. coli_'s K-12 MG1655 in genbank format. Our final goal is to build a peptide sequence database in a single FASTA file where each record corresponds to an inferred ORF, which will display the positional information (i.e. ORF number within the parent contig as well as the DNA strand). To this end, we will run pynteny's subcommand `build` within Python through the class `Build`. \n",
        "\n",
        "Since we are providing a genome which is already annotated (genbank file), we don't need to predict and translate ORFs as in the [command-line example](example_cli.ipynb). Instead, Pynteny will directly label each ORF with a unique identifier and add positional metadata (with respect to the parent contig). The labels will be organized following the structure:\n",
        "\n",
        "```\n",
        "<genome ID>__<contig ID>_<gene position>_<locus start>_<locus end>_<strand>\n",
        "```\n",
        "\n",
        "where gene position, locus start, and locus end are taken with respect to the contig.\n",
        "\n",
        "__NOTE__: To follow this example, you don't need to download _E. coli's_ genome, since it has been already downloaded during Pynteny's installation. But, if you still want to download it, you can get it [here](https://www.ncbi.nlm.nih.gov/nuccore/U00096.2)."
      ]
    },
    {
      "cell_type": "code",
      "execution_count": 32,
      "metadata": {
        "id": "kgSUShbx4her"
      },
      "outputs": [],
      "source": [
        "Build(\n",
        "    data=\"tests/test_data/MG1655.gb\",\n",
        "    outfile=f\"{output_dir}/labelled_MG1655.fasta\",\n",
        "    logfile=None\n",
        ").run()"
      ]
    },
    {
      "cell_type": "markdown",
      "metadata": {
        "id": "x8U6a6vN4hes"
      },
      "source": [
        "## Search synteny structure in _E. coli_\n",
        "\n",
        "Finally, we are going to use pynteny class `Search` to search for a specific syntenic block within the previously built peptide database. Specifically, we are interested in the following structure:\n",
        "\n",
        "```\n",
        "<leuD 0 <leuC 1 <leuA\n",
        "```\n",
        "\n",
        "With this synteny structure, we are searching for peptide sequences matching the profile HMM corresponding to these gene symbols, which are also arranged in this particular order, all in the negative (antisense) strand, as indicated by `<`, and which are located exactly next to each other in the same contig in the case of `leuD` and `leuC`, and with at most one ORF in between in the case of `leuC` and `leuA` (as indicated by a maximum number of in-between ORFs of 0 and 1, respectively.)\n",
        "\n",
        "First, we need to initialize the class `Search` with the appropiate parameters to conduct our synteny-aware search. Find more info about the parameters in the [wiki pages](https://github.com/Robaina/Pynteny/wiki/search).\n",
        "\n",
        "Some notes:\n",
        "\n",
        "- The only required parameters are `data`, the path to the position-labeled peptide database and `synteny_struc`, a string containing the definition of the synteny block to search for\n",
        "\n",
        "- Providing a path to the HMM database directory (parameter `hmm_dir`) is optional. If not provided, then pynteny will download and store the PGAP HMM database (only once if not previously downloaded) and use it to run the search. A custom HMM database provided in `hmm_dir` will override pynteny's default database\n",
        "\n",
        "- We can also manually download the PGAP HMM database with the subcommand `pynteny download`, or within Python through the class `Download` as shown above."
      ]
    },
    {
      "cell_type": "code",
      "execution_count": 37,
      "metadata": {
        "id": "_M-Akfkx4hes"
      },
      "outputs": [],
      "source": [
        "# Initialize class\n",
        "search = Search(\n",
        "    data=f\"{output_dir}/labelled_MG1655.fasta\",\n",
        "    synteny_struc=\"<leuD 0 <leuC 1 <leuA\",\n",
        "    hmm_dir=\"tests/test_data/hmms/\",\n",
        "    hmm_meta=\"tests/test_data/hmm_meta.tsv\",\n",
        "    outdir=\"example_api/\",\n",
        "    prefix=\"\",\n",
        "    hmmsearch_args=None,\n",
        "    gene_ids=False,\n",
        "    logfile=\"example_api/pynteny.log\",\n",
        "    processes=None,\n",
        "    unordered=False,\n",
        "    )"
      ]
    },
    {
      "cell_type": "code",
      "execution_count": 38,
      "metadata": {
        "colab": {
          "base_uri": "https://localhost:8080/"
        },
        "id": "uyc-dfVh4het",
        "outputId": "e579368f-91fd-4a8c-94ed-fc2117665deb"
      },
      "outputs": [
        {
          "name": "stdout",
          "output_type": "stream",
          "text": [
            "<TIGR00171.1 0 <TIGR00170.1 1 <TIGR00973.1\n"
          ]
        }
      ],
      "source": [
        "# Parse gene IDs in synteny structure according to PGAP HMM database metadata\n",
        "parsed_struc = search.parseGeneIDs(synteny_struc=\"<leuD 0 <leuC 1 <leuA\")\n",
        "print(parsed_struc)"
      ]
    },
    {
      "cell_type": "markdown",
      "metadata": {
        "id": "BXia3NOu4het"
      },
      "source": [
        "We see that `pynteny parse` has found three profile HMMs matching the corresponding gene symbols in the provided synteny structure:\n",
        "\n",
        "`<TIGR00171.1 0 <TIGR00170.1 1 <TIGR00973.1`\n",
        "\n",
        "Alright, now that we know that our HMM database contains models for all the gene symbols in our synteny structure, let's execute `Search.run` to find matches in our peptide sequence database. \n",
        "\n",
        "Some notes:\n",
        "\n",
        "- We could have directly input the synteny string composed of gene symbols. In that case we would have to set `gene_ids=True` with the method `Search.update`."
      ]
    },
    {
      "cell_type": "code",
      "execution_count": 39,
      "metadata": {
        "colab": {
          "base_uri": "https://localhost:8080/"
        },
        "id": "GRL7cvAb4het",
        "outputId": "76e7e360-234a-4c11-8f8c-c1640f4125b2"
      },
      "outputs": [
        {
          "name": "stderr",
          "output_type": "stream",
          "text": [
            "WARNING:pynteny.filter:At least two different HMMs produced identical sequence hits\n"
          ]
        }
      ],
      "source": [
        "# Update parsed synteny structure and Rrun Pynteny search\n",
        "search.update(\"synteny_struc\", parsed_struc)\n",
        "synhits: SyntenyHits = search.run()\n",
        "\n",
        "synhits_df: DataFrame = synhits.getSyntenyHits()"
      ]
    },
    {
      "cell_type": "markdown",
      "metadata": {
        "id": "oC7tREXm4heu"
      },
      "source": [
        "## Displaying the first synteny match\n",
        "\n",
        "Pynteny has generated a number of output files in the provided output directory. HMMER3 hit results are stored within the subdirectory `hmmer_outputs`. The main output file, `synteny_matched.tsv` contains the labels of the matched sequences grouped by synteny block and sorted by gene number within their parent contig. The remaining (FASTA) files contain the retrieved peptide sequences for each gene symbol / HMM name in the synteny structure.\n",
        "\n",
        "Displayed below is the first synteny match in our peptide database, we see that all peptides are located within the same parent contig and respect the positional restrictions of our input synteny structure: `<leuD 0 <leuC 1 <leuA`."
      ]
    },
    {
      "cell_type": "code",
      "execution_count": 40,
      "metadata": {
        "colab": {
          "base_uri": "https://localhost:8080/",
          "height": 170
        },
        "id": "cLa3cyeW4heu",
        "outputId": "626131ab-a84d-4e5e-8d4e-dc4b12f5e131"
      },
      "outputs": [
        {
          "data": {
            "text/html": [
              "\n",
              "  <div id=\"df-b04a3e2a-bdd1-41f2-a021-0ebcb94c5f04\">\n",
              "    <div class=\"colab-df-container\">\n",
              "      <div>\n",
              "<style scoped>\n",
              "    .dataframe tbody tr th:only-of-type {\n",
              "        vertical-align: middle;\n",
              "    }\n",
              "\n",
              "    .dataframe tbody tr th {\n",
              "        vertical-align: top;\n",
              "    }\n",
              "\n",
              "    .dataframe thead th {\n",
              "        text-align: right;\n",
              "    }\n",
              "</style>\n",
              "<table border=\"1\" class=\"dataframe\">\n",
              "  <thead>\n",
              "    <tr style=\"text-align: right;\">\n",
              "      <th></th>\n",
              "      <th>contig</th>\n",
              "      <th>gene_id</th>\n",
              "      <th>gene_number</th>\n",
              "      <th>locus</th>\n",
              "      <th>strand</th>\n",
              "      <th>full_label</th>\n",
              "      <th>hmm</th>\n",
              "      <th>gene_symbol</th>\n",
              "      <th>label</th>\n",
              "      <th>product</th>\n",
              "      <th>ec_number</th>\n",
              "    </tr>\n",
              "  </thead>\n",
              "  <tbody>\n",
              "    <tr>\n",
              "      <th>0</th>\n",
              "      <td>U00096</td>\n",
              "      <td>b0071</td>\n",
              "      <td>71</td>\n",
              "      <td>(78847, 79453)</td>\n",
              "      <td>neg</td>\n",
              "      <td>b0071__U00096_71_78847_79453_neg</td>\n",
              "      <td>TIGR00171.1</td>\n",
              "      <td>leuD</td>\n",
              "      <td>leuD</td>\n",
              "      <td>3-isopropylmalate dehydratase small subunit</td>\n",
              "      <td>4.2.1.33</td>\n",
              "    </tr>\n",
              "    <tr>\n",
              "      <th>1</th>\n",
              "      <td>U00096</td>\n",
              "      <td>b0072</td>\n",
              "      <td>72</td>\n",
              "      <td>(79463, 80864)</td>\n",
              "      <td>neg</td>\n",
              "      <td>b0072__U00096_72_79463_80864_neg</td>\n",
              "      <td>TIGR00170.1</td>\n",
              "      <td>leuC</td>\n",
              "      <td>leuC</td>\n",
              "      <td>3-isopropylmalate dehydratase large subunit</td>\n",
              "      <td>4.2.1.33</td>\n",
              "    </tr>\n",
              "    <tr>\n",
              "      <th>2</th>\n",
              "      <td>U00096</td>\n",
              "      <td>b0074</td>\n",
              "      <td>74</td>\n",
              "      <td>(81957, 83529)</td>\n",
              "      <td>neg</td>\n",
              "      <td>b0074__U00096_74_81957_83529_neg</td>\n",
              "      <td>TIGR00973.1</td>\n",
              "      <td>leuA</td>\n",
              "      <td>leuA</td>\n",
              "      <td>2-isopropylmalate synthase</td>\n",
              "      <td>2.3.3.13</td>\n",
              "    </tr>\n",
              "  </tbody>\n",
              "</table>\n",
              "</div>\n",
              "      <button class=\"colab-df-convert\" onclick=\"convertToInteractive('df-b04a3e2a-bdd1-41f2-a021-0ebcb94c5f04')\"\n",
              "              title=\"Convert this dataframe to an interactive table.\"\n",
              "              style=\"display:none;\">\n",
              "        \n",
              "  <svg xmlns=\"http://www.w3.org/2000/svg\" height=\"24px\"viewBox=\"0 0 24 24\"\n",
              "       width=\"24px\">\n",
              "    <path d=\"M0 0h24v24H0V0z\" fill=\"none\"/>\n",
              "    <path d=\"M18.56 5.44l.94 2.06.94-2.06 2.06-.94-2.06-.94-.94-2.06-.94 2.06-2.06.94zm-11 1L8.5 8.5l.94-2.06 2.06-.94-2.06-.94L8.5 2.5l-.94 2.06-2.06.94zm10 10l.94 2.06.94-2.06 2.06-.94-2.06-.94-.94-2.06-.94 2.06-2.06.94z\"/><path d=\"M17.41 7.96l-1.37-1.37c-.4-.4-.92-.59-1.43-.59-.52 0-1.04.2-1.43.59L10.3 9.45l-7.72 7.72c-.78.78-.78 2.05 0 2.83L4 21.41c.39.39.9.59 1.41.59.51 0 1.02-.2 1.41-.59l7.78-7.78 2.81-2.81c.8-.78.8-2.07 0-2.86zM5.41 20L4 18.59l7.72-7.72 1.47 1.35L5.41 20z\"/>\n",
              "  </svg>\n",
              "      </button>\n",
              "      \n",
              "  <style>\n",
              "    .colab-df-container {\n",
              "      display:flex;\n",
              "      flex-wrap:wrap;\n",
              "      gap: 12px;\n",
              "    }\n",
              "\n",
              "    .colab-df-convert {\n",
              "      background-color: #E8F0FE;\n",
              "      border: none;\n",
              "      border-radius: 50%;\n",
              "      cursor: pointer;\n",
              "      display: none;\n",
              "      fill: #1967D2;\n",
              "      height: 32px;\n",
              "      padding: 0 0 0 0;\n",
              "      width: 32px;\n",
              "    }\n",
              "\n",
              "    .colab-df-convert:hover {\n",
              "      background-color: #E2EBFA;\n",
              "      box-shadow: 0px 1px 2px rgba(60, 64, 67, 0.3), 0px 1px 3px 1px rgba(60, 64, 67, 0.15);\n",
              "      fill: #174EA6;\n",
              "    }\n",
              "\n",
              "    [theme=dark] .colab-df-convert {\n",
              "      background-color: #3B4455;\n",
              "      fill: #D2E3FC;\n",
              "    }\n",
              "\n",
              "    [theme=dark] .colab-df-convert:hover {\n",
              "      background-color: #434B5C;\n",
              "      box-shadow: 0px 1px 3px 1px rgba(0, 0, 0, 0.15);\n",
              "      filter: drop-shadow(0px 1px 2px rgba(0, 0, 0, 0.3));\n",
              "      fill: #FFFFFF;\n",
              "    }\n",
              "  </style>\n",
              "\n",
              "      <script>\n",
              "        const buttonEl =\n",
              "          document.querySelector('#df-b04a3e2a-bdd1-41f2-a021-0ebcb94c5f04 button.colab-df-convert');\n",
              "        buttonEl.style.display =\n",
              "          google.colab.kernel.accessAllowed ? 'block' : 'none';\n",
              "\n",
              "        async function convertToInteractive(key) {\n",
              "          const element = document.querySelector('#df-b04a3e2a-bdd1-41f2-a021-0ebcb94c5f04');\n",
              "          const dataTable =\n",
              "            await google.colab.kernel.invokeFunction('convertToInteractive',\n",
              "                                                     [key], {});\n",
              "          if (!dataTable) return;\n",
              "\n",
              "          const docLinkHtml = 'Like what you see? Visit the ' +\n",
              "            '<a target=\"_blank\" href=https://colab.research.google.com/notebooks/data_table.ipynb>data table notebook</a>'\n",
              "            + ' to learn more about interactive tables.';\n",
              "          element.innerHTML = '';\n",
              "          dataTable['output_type'] = 'display_data';\n",
              "          await google.colab.output.renderOutput(dataTable, element);\n",
              "          const docLink = document.createElement('div');\n",
              "          docLink.innerHTML = docLinkHtml;\n",
              "          element.appendChild(docLink);\n",
              "        }\n",
              "      </script>\n",
              "    </div>\n",
              "  </div>\n",
              "  "
            ],
            "text/plain": [
              "   contig gene_id  gene_number           locus strand  \\\n",
              "0  U00096   b0071           71  (78847, 79453)    neg   \n",
              "1  U00096   b0072           72  (79463, 80864)    neg   \n",
              "2  U00096   b0074           74  (81957, 83529)    neg   \n",
              "\n",
              "                         full_label          hmm gene_symbol label  \\\n",
              "0  b0071__U00096_71_78847_79453_neg  TIGR00171.1        leuD  leuD   \n",
              "1  b0072__U00096_72_79463_80864_neg  TIGR00170.1        leuC  leuC   \n",
              "2  b0074__U00096_74_81957_83529_neg  TIGR00973.1        leuA  leuA   \n",
              "\n",
              "                                       product ec_number  \n",
              "0  3-isopropylmalate dehydratase small subunit  4.2.1.33  \n",
              "1  3-isopropylmalate dehydratase large subunit  4.2.1.33  \n",
              "2                   2-isopropylmalate synthase  2.3.3.13  "
            ]
          },
          "execution_count": 40,
          "metadata": {},
          "output_type": "execute_result"
        }
      ],
      "source": [
        "synhits_df.head()"
      ]
    },
    {
      "cell_type": "markdown",
      "metadata": {
        "id": "2_ItICDF4heu"
      },
      "source": [
        "Finally, here is the KEGG genome visualization centered around the _leu_ operon. Click on the image to open it in the browser, then change gene identifiers from `KID` to `Symbol` to display gene symbols. The _sox_ operon is depicted in purple.\n",
        "\n",
        "[![keeg_leu](https://user-images.githubusercontent.com/21340147/193794791-fc7643a7-4fbc-41a1-9770-2979bfc3434a.png)](https://www.genome.jp/genome/T00007?org=T00007&from=64000&to=101580&label=kid)"
      ]
    },
    {
      "cell_type": "markdown",
      "metadata": {
        "id": "8ADdHFAA4heu"
      },
      "source": [
        "## Get citation\n",
        "\n",
        "We can get the citation string by calling the `cite` method:"
      ]
    },
    {
      "cell_type": "code",
      "execution_count": 41,
      "metadata": {
        "colab": {
          "base_uri": "https://localhost:8080/"
        },
        "id": "VUKWVo3W4heu",
        "outputId": "52c1082d-5378-4fec-a672-b1e6ca6a807a"
      },
      "outputs": [
        {
          "name": "stdout",
          "output_type": "stream",
          "text": [
            "Semidán Robaina Estévez (2022). Pynteny: synteny-aware hmm searches made easy(Version 0.0.5). Zenodo. https://doi.org/10.5281/zenodo.7048685\n"
          ]
        }
      ],
      "source": [
        "Search.cite()"
      ]
    }
  ],
  "metadata": {
    "colab": {
      "include_colab_link": true,
      "provenance": []
    },
    "kernelspec": {
      "display_name": "Python 3.10.5 ('pynteny')",
      "language": "python",
      "name": "python3"
    },
    "language_info": {
      "codemirror_mode": {
        "name": "ipython",
        "version": 3
      },
      "file_extension": ".py",
      "mimetype": "text/x-python",
      "name": "python",
      "nbconvert_exporter": "python",
      "pygments_lexer": "ipython3",
      "version": "3.10.8 | packaged by conda-forge | (main, Nov 22 2022, 08:23:14) [GCC 10.4.0]"
    },
    "orig_nbformat": 4,
    "vscode": {
      "interpreter": {
        "hash": "72a61de4707cf6170489d2ddea2edd86c71e80569b354848770f4168884b6914"
      }
    }
  },
  "nbformat": 4,
  "nbformat_minor": 0
}
